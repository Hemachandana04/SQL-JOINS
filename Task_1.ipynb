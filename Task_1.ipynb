{
  "nbformat": 4,
  "nbformat_minor": 0,
  "metadata": {
    "colab": {
      "provenance": []
    },
    "kernelspec": {
      "name": "python3",
      "display_name": "Python 3"
    },
    "language_info": {
      "name": "python"
    }
  },
  "cells": [
    {
      "cell_type": "code",
      "source": [
        "import sqlite3\n",
        "conn=sqlite3.connect('test.db')"
      ],
      "metadata": {
        "id": "DE-JsnK0qbjS"
      },
      "execution_count": 3,
      "outputs": []
    },
    {
      "cell_type": "code",
      "source": [
        "conn.execute('''\n",
        "CREATE TABLE Customers (\n",
        "    CustomerID INT PRIMARY KEY,\n",
        "    CustomerName VARCHAR(50),\n",
        "    Country VARCHAR(50)\n",
        "    );'''\n",
        "\n",
        ")\n",
        "conn.commit()\n",
        "print('Customers Table');"
      ],
      "metadata": {
        "colab": {
          "base_uri": "https://localhost:8080/"
        },
        "id": "cxBz2nrpq4GT",
        "outputId": "0df52abe-8ddd-4e2a-bdde-0c2e0d0d0a2e"
      },
      "execution_count": 5,
      "outputs": [
        {
          "output_type": "stream",
          "name": "stdout",
          "text": [
            "Customers Table\n"
          ]
        }
      ]
    },
    {
      "cell_type": "code",
      "source": [
        "conn.execute('''\n",
        "CREATE TABLE Orders (\n",
        "    OrderID INT PRIMARY KEY,\n",
        "    CustomerID INT,\n",
        "    Product VARCHAR(50),\n",
        "    FOREIGN KEY (CustomerID) REFERENCES Customers(CustomerID)\n",
        "    );'''\n",
        "\n",
        ")\n",
        "conn.commit()\n",
        "print('Orders Table');"
      ],
      "metadata": {
        "colab": {
          "base_uri": "https://localhost:8080/"
        },
        "id": "CbhKe6mssW-h",
        "outputId": "e5da7ea6-5bb5-4550-d934-703206bc9008"
      },
      "execution_count": 6,
      "outputs": [
        {
          "output_type": "stream",
          "name": "stdout",
          "text": [
            "Orders Table\n"
          ]
        }
      ]
    },
    {
      "cell_type": "code",
      "source": [
        "conn.execute(\"INSERT INTO Customers (CustomerID, CustomerName, Country) VALUES(1, 'Alice', 'USA');\")\n",
        "conn.execute(\"INSERT INTO Customers (CustomerID, CustomerName, Country) VALUES(2, 'Bob', 'UK');\")\n",
        "conn.execute(\"INSERT INTO Customers (CustomerID, CustomerName, Country) VALUES(3, 'Charlie', 'Canada');\")\n",
        "conn.execute(\"INSERT INTO Customers (CustomerID, CustomerName, Country) VALUES(4, 'Diana', 'USA');\")"
      ],
      "metadata": {
        "colab": {
          "base_uri": "https://localhost:8080/"
        },
        "id": "iYh14_5cs2LV",
        "outputId": "6d1f153a-fabc-4113-d1f0-2f5f40a5ca96"
      },
      "execution_count": 7,
      "outputs": [
        {
          "output_type": "execute_result",
          "data": {
            "text/plain": [
              "<sqlite3.Cursor at 0x78016eeceac0>"
            ]
          },
          "metadata": {},
          "execution_count": 7
        }
      ]
    },
    {
      "cell_type": "code",
      "source": [
        "conn.execute(\"INSERT INTO Orders (OrderID, CustomerID, Product) VALUES (101, 1, 'Laptop');\")\n",
        "conn.execute(\"INSERT INTO Orders (OrderID, CustomerID, Product) VALUES (102, 3, 'Keyboard');\")\n",
        "conn.execute(\"INSERT INTO Orders (OrderID, CustomerID, Product) VALUES (103, 4, 'Monitor');\")\n",
        "conn.execute(\"INSERT INTO Orders (OrderID, CustomerID, Product) VALUES (104, 5, 'Mouse');\")\n",
        "conn.commit()"
      ],
      "metadata": {
        "id": "haU3i6_PuR4W"
      },
      "execution_count": 8,
      "outputs": []
    },
    {
      "cell_type": "code",
      "source": [
        "conn=sqlite3.connect('test.db')\n",
        "cursor=conn.execute(''' SELECT * FROM Customers ''' )\n",
        "for row in cursor:\n",
        "  print(row)"
      ],
      "metadata": {
        "colab": {
          "base_uri": "https://localhost:8080/"
        },
        "id": "mksNKyL-vYQg",
        "outputId": "ceefd5a2-d398-42f2-9b58-428b4e160aef"
      },
      "execution_count": 9,
      "outputs": [
        {
          "output_type": "stream",
          "name": "stdout",
          "text": [
            "(1, 'Alice', 'USA')\n",
            "(2, 'Bob', 'UK')\n",
            "(3, 'Charlie', 'Canada')\n",
            "(4, 'Diana', 'USA')\n"
          ]
        }
      ]
    },
    {
      "cell_type": "code",
      "source": [
        "cursor=conn.execute(''' SELECT * FROM Orders ''' )\n",
        "for row in cursor:\n",
        "  print(row)"
      ],
      "metadata": {
        "colab": {
          "base_uri": "https://localhost:8080/"
        },
        "id": "wLajljLUwA1O",
        "outputId": "94e594b8-7bba-4fd9-db1a-1f7a7db0dcf4"
      },
      "execution_count": 10,
      "outputs": [
        {
          "output_type": "stream",
          "name": "stdout",
          "text": [
            "(101, 1, 'Laptop')\n",
            "(102, 3, 'Keyboard')\n",
            "(103, 4, 'Monitor')\n",
            "(104, 5, 'Mouse')\n"
          ]
        }
      ]
    },
    {
      "cell_type": "code",
      "source": [
        "# Inner Join\n",
        "cursor=conn.execute('''\n",
        "SELECT Customers.CustomerID, Customers.CustomerName, Orders.Product\n",
        "FROM Customers\n",
        "INNER JOIN Orders\n",
        "ON Customers.CustomerID = Orders.CustomerID;''' )\n",
        "for row in cursor:\n",
        "  print(row)"
      ],
      "metadata": {
        "colab": {
          "base_uri": "https://localhost:8080/"
        },
        "id": "6ekCN0s7wKZE",
        "outputId": "fa9538d7-0736-4e08-8f5d-0c935ccdaa3c"
      },
      "execution_count": 11,
      "outputs": [
        {
          "output_type": "stream",
          "name": "stdout",
          "text": [
            "(1, 'Alice', 'Laptop')\n",
            "(3, 'Charlie', 'Keyboard')\n",
            "(4, 'Diana', 'Monitor')\n"
          ]
        }
      ]
    },
    {
      "cell_type": "code",
      "source": [
        "#Left Join\n",
        "cursor=conn.execute('''\n",
        "SELECT Customers.CustomerID, Customers.CustomerName, Orders.Product\n",
        "FROM Customers\n",
        "LEFT JOIN Orders\n",
        "ON Customers.CustomerID = Orders.CustomerID;\n",
        "''' )\n",
        "for row in cursor:\n",
        "  print(row)"
      ],
      "metadata": {
        "colab": {
          "base_uri": "https://localhost:8080/"
        },
        "id": "LdH7kw00wrzI",
        "outputId": "f16fae03-4108-410b-f3a8-c02e315cdc30"
      },
      "execution_count": 12,
      "outputs": [
        {
          "output_type": "stream",
          "name": "stdout",
          "text": [
            "(1, 'Alice', 'Laptop')\n",
            "(2, 'Bob', None)\n",
            "(3, 'Charlie', 'Keyboard')\n",
            "(4, 'Diana', 'Monitor')\n"
          ]
        }
      ]
    },
    {
      "cell_type": "code",
      "source": [
        "#Right Join\n",
        "cursor=conn.execute('''\n",
        "SELECT Customers.CustomerID, Customers.CustomerName, Orders.Product\n",
        "FROM Customers\n",
        "RIGHT JOIN Orders\n",
        "ON Customers.CustomerID = Orders.CustomerID;\n",
        " ''' )\n",
        "for row in cursor:\n",
        "  print(row)"
      ],
      "metadata": {
        "colab": {
          "base_uri": "https://localhost:8080/",
          "height": 211
        },
        "id": "KPKr73mXwrvw",
        "outputId": "260de77e-3122-4b2f-f754-8eb024f6882b"
      },
      "execution_count": 13,
      "outputs": [
        {
          "output_type": "error",
          "ename": "OperationalError",
          "evalue": "RIGHT and FULL OUTER JOINs are not currently supported",
          "traceback": [
            "\u001b[0;31m---------------------------------------------------------------------------\u001b[0m",
            "\u001b[0;31mOperationalError\u001b[0m                          Traceback (most recent call last)",
            "\u001b[0;32m/tmp/ipython-input-3019161595.py\u001b[0m in \u001b[0;36m<cell line: 0>\u001b[0;34m()\u001b[0m\n\u001b[1;32m      1\u001b[0m \u001b[0;31m#Right Join\u001b[0m\u001b[0;34m\u001b[0m\u001b[0;34m\u001b[0m\u001b[0m\n\u001b[0;32m----> 2\u001b[0;31m cursor=conn.execute(''' \n\u001b[0m\u001b[1;32m      3\u001b[0m \u001b[0mSELECT\u001b[0m \u001b[0mCustomers\u001b[0m\u001b[0;34m.\u001b[0m\u001b[0mCustomerID\u001b[0m\u001b[0;34m,\u001b[0m \u001b[0mCustomers\u001b[0m\u001b[0;34m.\u001b[0m\u001b[0mCustomerName\u001b[0m\u001b[0;34m,\u001b[0m \u001b[0mOrders\u001b[0m\u001b[0;34m.\u001b[0m\u001b[0mProduct\u001b[0m\u001b[0;34m\u001b[0m\u001b[0;34m\u001b[0m\u001b[0m\n\u001b[1;32m      4\u001b[0m \u001b[0mFROM\u001b[0m \u001b[0mCustomers\u001b[0m\u001b[0;34m\u001b[0m\u001b[0;34m\u001b[0m\u001b[0m\n\u001b[1;32m      5\u001b[0m \u001b[0mRIGHT\u001b[0m \u001b[0mJOIN\u001b[0m \u001b[0mOrders\u001b[0m\u001b[0;34m\u001b[0m\u001b[0;34m\u001b[0m\u001b[0m\n",
            "\u001b[0;31mOperationalError\u001b[0m: RIGHT and FULL OUTER JOINs are not currently supported"
          ]
        }
      ]
    },
    {
      "cell_type": "code",
      "source": [
        "#Full Outer Join\n",
        "cursor=conn.execute('''\n",
        "SELECT Customers.CustomerID, Customers.CustomerName, Orders.Product\n",
        "FROM Customers\n",
        "FULL OUTER JOIN Orders\n",
        "ON Customers.CustomerID = Orders.CustomerID;\n",
        " ''' )\n",
        "for row in cursor:\n",
        "  print(row)"
      ],
      "metadata": {
        "colab": {
          "base_uri": "https://localhost:8080/",
          "height": 211
        },
        "id": "UxLPFWdLwv1L",
        "outputId": "e2165d92-828a-4b2b-d8bf-8fa806cace13"
      },
      "execution_count": 14,
      "outputs": [
        {
          "output_type": "error",
          "ename": "OperationalError",
          "evalue": "RIGHT and FULL OUTER JOINs are not currently supported",
          "traceback": [
            "\u001b[0;31m---------------------------------------------------------------------------\u001b[0m",
            "\u001b[0;31mOperationalError\u001b[0m                          Traceback (most recent call last)",
            "\u001b[0;32m/tmp/ipython-input-2386944186.py\u001b[0m in \u001b[0;36m<cell line: 0>\u001b[0;34m()\u001b[0m\n\u001b[1;32m      1\u001b[0m \u001b[0;31m#Full Outer Join\u001b[0m\u001b[0;34m\u001b[0m\u001b[0;34m\u001b[0m\u001b[0m\n\u001b[0;32m----> 2\u001b[0;31m cursor=conn.execute(''' \n\u001b[0m\u001b[1;32m      3\u001b[0m \u001b[0mSELECT\u001b[0m \u001b[0mCustomers\u001b[0m\u001b[0;34m.\u001b[0m\u001b[0mCustomerID\u001b[0m\u001b[0;34m,\u001b[0m \u001b[0mCustomers\u001b[0m\u001b[0;34m.\u001b[0m\u001b[0mCustomerName\u001b[0m\u001b[0;34m,\u001b[0m \u001b[0mOrders\u001b[0m\u001b[0;34m.\u001b[0m\u001b[0mProduct\u001b[0m\u001b[0;34m\u001b[0m\u001b[0;34m\u001b[0m\u001b[0m\n\u001b[1;32m      4\u001b[0m \u001b[0mFROM\u001b[0m \u001b[0mCustomers\u001b[0m\u001b[0;34m\u001b[0m\u001b[0;34m\u001b[0m\u001b[0m\n\u001b[1;32m      5\u001b[0m \u001b[0mFULL\u001b[0m \u001b[0mOUTER\u001b[0m \u001b[0mJOIN\u001b[0m \u001b[0mOrders\u001b[0m\u001b[0;34m\u001b[0m\u001b[0;34m\u001b[0m\u001b[0m\n",
            "\u001b[0;31mOperationalError\u001b[0m: RIGHT and FULL OUTER JOINs are not currently supported"
          ]
        }
      ]
    }
  ]
}